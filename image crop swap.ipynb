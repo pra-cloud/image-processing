{
 "cells": [
  {
   "cell_type": "code",
   "execution_count": null,
   "metadata": {},
   "outputs": [],
   "source": [
    "import cv2\n",
    "pm=cv2.imread(\"irony.jpg\")#access photo\n",
    "cv2.imshow(\"marvel\",pm)\n",
    "cv2.waitKey()\n",
    "cv2.destroyAllwindows()"
   ]
  },
  {
   "cell_type": "code",
   "execution_count": 1,
   "metadata": {},
   "outputs": [
    {
     "data": {
      "text/plain": [
       "(1080, 1920, 3)"
      ]
     },
     "execution_count": 1,
     "metadata": {},
     "output_type": "execute_result"
    }
   ],
   "source": [
    "import cv2\n",
    "pm=cv2.imread(\"irony.jpg\")\n",
    "pm.shape"
   ]
  },
  {
   "cell_type": "code",
   "execution_count": 30,
   "metadata": {},
   "outputs": [],
   "source": [
    "import cv2\n",
    "pm=cv2.imread(\"irony.jpg\")#SWAP PHOTO\n",
    "cm=cv2.imread(\"SRGI.jpg\")\n",
    "cm[10:200,20:200]\n",
    "pm[10:200,20:200]=cm[10:200,20:200]\n",
    "cv2.imshow(\"marvel\",pm)\n",
    "cv2.waitKey()\n",
    "cv2.destroyAllWindows()"
   ]
  },
  {
   "cell_type": "code",
   "execution_count": 16,
   "metadata": {},
   "outputs": [],
   "source": [
    "import cv2\n",
    "pm=cv2.imread(\"irony.jpg\") \n",
    "r=pm[300:600,700:1000,]\n",
    "cv2.imshow(\"CROP\",r)\n",
    "cv2.waitKey()      #crop photo\n",
    "cv2.destroyAllWindows()\n"
   ]
  },
  {
   "cell_type": "code",
   "execution_count": 14,
   "metadata": {},
   "outputs": [],
   "source": [
    "import cv2\n",
    "pm=cv2.imread(\"irony.jpg\")\n",
    "pm[ : , : , 0]=0 #REMOVE BLUE COLOR\n",
    "cv2.imshow(\"blue\",pm)\n",
    "cv2.waitKey()\n",
    "cv2.destroyAllWindows()"
   ]
  },
  {
   "cell_type": "code",
   "execution_count": 17,
   "metadata": {},
   "outputs": [],
   "source": [
    "import cv2\n",
    "ar=cv2.imread(\"irony.jpg\")\n",
    "ar[300:600,600:900]=[0,234,235] #add color\n",
    "cv2.imshow(\"addcolor\",ar)\n",
    "cv2.waitKey()\n",
    "cv2.destroyAllWindows()"
   ]
  },
  {
   "cell_type": "code",
   "execution_count": 13,
   "metadata": {},
   "outputs": [
    {
     "data": {
      "text/plain": [
       "array([[89, 89, 89, 89, 89, 89]])"
      ]
     },
     "execution_count": 13,
     "metadata": {},
     "output_type": "execute_result"
    }
   ],
   "source": [
    "a"
   ]
  },
  {
   "cell_type": "code",
   "execution_count": null,
   "metadata": {},
   "outputs": [],
   "source": []
  },
  {
   "cell_type": "code",
   "execution_count": 36,
   "metadata": {},
   "outputs": [
    {
     "data": {
      "text/plain": [
       "array([[[11, 12, 13],\n",
       "        [14, 15, 16],\n",
       "        [16, 17, 18],\n",
       "        [15, 17, 18]]])"
      ]
     },
     "execution_count": 36,
     "metadata": {},
     "output_type": "execute_result"
    }
   ],
   "source": [
    "u=[[1,2,3],[4,5,6],[6,7,8],[5,7,8]]\n",
    "import numpy as pm\n",
    "a=pm.array([u])\n",
    "a+=10\n",
    "a\n"
   ]
  },
  {
   "cell_type": "code",
   "execution_count": 37,
   "metadata": {},
   "outputs": [],
   "source": [
    "import cv2\n",
    "we=cv2.imread(\"irony.jpg\")\n",
    "we[ : , : ,0]+=100 #amplification\n",
    "cv2.imshow(\"apmlifier\",we)\n",
    "cv2.waitKey()\n",
    "cv2.destroyAllWindows()"
   ]
  },
  {
   "cell_type": "code",
   "execution_count": 39,
   "metadata": {},
   "outputs": [],
   "source": [
    "import cv2\n",
    "we=cv2.imread(\"irony.jpg\")\n",
    "B,G,R=cv2.split(we)"
   ]
  },
  {
   "cell_type": "code",
   "execution_count": 40,
   "metadata": {},
   "outputs": [
    {
     "data": {
      "text/plain": [
       "array([[47, 47, 48, ..., 22, 22, 22],\n",
       "       [48, 48, 49, ..., 24, 23, 23],\n",
       "       [48, 48, 49, ..., 24, 24, 24],\n",
       "       ...,\n",
       "       [21, 21, 21, ..., 27, 30, 32],\n",
       "       [19, 19, 19, ..., 27, 30, 33],\n",
       "       [18, 18, 18, ..., 28, 30, 33]], dtype=uint8)"
      ]
     },
     "execution_count": 40,
     "metadata": {},
     "output_type": "execute_result"
    }
   ],
   "source": [
    "B"
   ]
  },
  {
   "cell_type": "code",
   "execution_count": 41,
   "metadata": {},
   "outputs": [
    {
     "data": {
      "text/plain": [
       "array([[40, 41, 44, ..., 18, 18, 18],\n",
       "       [41, 42, 45, ..., 20, 19, 19],\n",
       "       [41, 42, 45, ..., 20, 20, 20],\n",
       "       ...,\n",
       "       [29, 29, 29, ..., 27, 30, 32],\n",
       "       [27, 27, 27, ..., 27, 30, 33],\n",
       "       [26, 26, 26, ..., 28, 30, 33]], dtype=uint8)"
      ]
     },
     "execution_count": 41,
     "metadata": {},
     "output_type": "execute_result"
    }
   ],
   "source": [
    "G"
   ]
  },
  {
   "cell_type": "code",
   "execution_count": 42,
   "metadata": {},
   "outputs": [
    {
     "data": {
      "text/plain": [
       "array([[23, 22, 20, ...,  0,  0,  0],\n",
       "       [24, 23, 21, ...,  1,  0,  0],\n",
       "       [22, 23, 21, ...,  1,  1,  1],\n",
       "       ...,\n",
       "       [59, 59, 59, ..., 27, 30, 32],\n",
       "       [57, 57, 57, ..., 27, 30, 33],\n",
       "       [56, 56, 56, ..., 28, 30, 33]], dtype=uint8)"
      ]
     },
     "execution_count": 42,
     "metadata": {},
     "output_type": "execute_result"
    }
   ],
   "source": [
    "R"
   ]
  },
  {
   "cell_type": "code",
   "execution_count": 47,
   "metadata": {},
   "outputs": [
    {
     "data": {
      "text/plain": [
       "(1080, 1920)"
      ]
     },
     "execution_count": 47,
     "metadata": {},
     "output_type": "execute_result"
    }
   ],
   "source": [
    "R.shape"
   ]
  },
  {
   "cell_type": "code",
   "execution_count": 58,
   "metadata": {},
   "outputs": [],
   "source": [
    "import numpy as pm\n",
    "zeron=pm.zeros((1080,1920))\n",
    "new=cv2.merge([B,G,z]) #remove red by new way\n",
    "cv2.imshow(\"newway\",new)\n",
    "cv2.waitKey()\n",
    "cv2.destroyAllWindows()\n"
   ]
  },
  {
   "cell_type": "code",
   "execution_count": 52,
   "metadata": {},
   "outputs": [
    {
     "data": {
      "text/plain": [
       "dtype('float64')"
      ]
     },
     "execution_count": 52,
     "metadata": {},
     "output_type": "execute_result"
    }
   ],
   "source": []
  },
  {
   "cell_type": "code",
   "execution_count": 53,
   "metadata": {},
   "outputs": [
    {
     "data": {
      "text/plain": [
       "dtype('uint8')"
      ]
     },
     "execution_count": 53,
     "metadata": {},
     "output_type": "execute_result"
    }
   ],
   "source": [
    "z=zeron.astype(\"uint8\")\n",
    "z.dtype"
   ]
  },
  {
   "cell_type": "raw",
   "metadata": {},
   "source": [
    "R.dtype"
   ]
  },
  {
   "cell_type": "code",
   "execution_count": 59,
   "metadata": {},
   "outputs": [
    {
     "data": {
      "text/plain": [
       "dtype('uint8')"
      ]
     },
     "execution_count": 59,
     "metadata": {},
     "output_type": "execute_result"
    }
   ],
   "source": [
    "R.dtype"
   ]
  },
  {
   "cell_type": "code",
   "execution_count": null,
   "metadata": {},
   "outputs": [],
   "source": []
  }
 ],
 "metadata": {
  "kernelspec": {
   "display_name": "Python 3",
   "language": "python",
   "name": "python3"
  },
  "language_info": {
   "codemirror_mode": {
    "name": "ipython",
    "version": 3
   },
   "file_extension": ".py",
   "mimetype": "text/x-python",
   "name": "python",
   "nbconvert_exporter": "python",
   "pygments_lexer": "ipython3",
   "version": "3.7.7"
  }
 },
 "nbformat": 4,
 "nbformat_minor": 4
}
